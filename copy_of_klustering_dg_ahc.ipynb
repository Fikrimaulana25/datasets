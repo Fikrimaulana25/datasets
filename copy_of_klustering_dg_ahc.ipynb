{
  "nbformat": 4,
  "nbformat_minor": 0,
  "metadata": {
    "colab": {
      "provenance": [],
      "authorship_tag": "ABX9TyOi5OAcmqapXdatX06/cf9T",
      "include_colab_link": true
    },
    "kernelspec": {
      "name": "python3",
      "display_name": "Python 3"
    },
    "language_info": {
      "name": "python"
    }
  },
  "cells": [
    {
      "cell_type": "markdown",
      "metadata": {
        "id": "view-in-github",
        "colab_type": "text"
      },
      "source": [
        "<a href=\"https://colab.research.google.com/github/Fikrimaulana25/datasets/blob/main/copy_of_klustering_dg_ahc.ipynb\" target=\"_parent\"><img src=\"https://colab.research.google.com/assets/colab-badge.svg\" alt=\"Open In Colab\"/></a>"
      ]
    },
    {
      "cell_type": "code",
      "execution_count": null,
      "metadata": {
        "id": "iWmjcWHOGDDX"
      },
      "outputs": [],
      "source": [
        "import library\n",
        "from matplotlib import pyplot as plt\n",
        "from scipy.cluster.hierarchy import dendrogram, linkage\n",
        "import numpy as np"
      ]
    },
    {
      "cell_type": "code",
      "source": [
        "data = pd.read_excel(\"Data1 AHC.xlsx\")\n",
        "print(data)"
      ],
      "metadata": {
        "id": "FPutsgr6Gtwm"
      },
      "execution_count": null,
      "outputs": []
    },
    {
      "cell_type": "code",
      "source": [
        "x = np.asarray(data)\n",
        "print(x)"
      ],
      "metadata": {
        "id": "lwv8_JgRHRDj"
      },
      "execution_count": null,
      "outputs": []
    },
    {
      "cell_type": "code",
      "source": [
        "#lakukan hierachical klastering\n",
        "Z = linkage(x)"
      ],
      "metadata": {
        "id": "M3ewPzK3IKxt"
      },
      "execution_count": null,
      "outputs": []
    },
    {
      "cell_type": "code",
      "source": [
        "#plot dendogram\n",
        "plt.figure(figsize=(25, 10))\n",
        "plt.title('Dendrogram Hierarchical Klastering')\n",
        "plt.xlabel('data')\n",
        "plt.ylabel('jarak')\n",
        "dendrogram(Z)\n",
        "plt.show()"
      ],
      "metadata": {
        "id": "cbbzebt9IQKk"
      },
      "execution_count": null,
      "outputs": []
    }
  ]
}